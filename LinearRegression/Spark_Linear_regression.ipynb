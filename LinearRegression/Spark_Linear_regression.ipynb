{
  "nbformat": 4,
  "nbformat_minor": 0,
  "metadata": {
    "colab": {
      "name": "Spark_Linear_regression",
      "provenance": [],
      "authorship_tag": "ABX9TyNWL+kA9OWA+UuF/4lTsY9B",
      "include_colab_link": true
    },
    "kernelspec": {
      "name": "python3",
      "display_name": "Python 3"
    }
  },
  "cells": [
    {
      "cell_type": "markdown",
      "metadata": {
        "id": "view-in-github",
        "colab_type": "text"
      },
      "source": [
        "<a href=\"https://colab.research.google.com/github/swarathesh/Spark_ML/blob/master/Spark_Linear_regression.ipynb\" target=\"_parent\"><img src=\"https://colab.research.google.com/assets/colab-badge.svg\" alt=\"Open In Colab\"/></a>"
      ]
    },
    {
      "cell_type": "markdown",
      "metadata": {
        "id": "ic8Yq6rOsavv",
        "colab_type": "text"
      },
      "source": [
        "\n",
        "\n",
        "```\n",
        "jupyter notebook \\\n",
        "  --NotebookApp.allow_origin='https://colab.research.google.com' \\\n",
        "  --port=8888 \\\n",
        "  --NotebookApp.port_retries=0\n",
        "```\n",
        "\n"
      ]
    },
    {
      "cell_type": "code",
      "metadata": {
        "id": "VQ8q4FNctHAI",
        "colab_type": "code",
        "colab": {}
      },
      "source": [
        "from pyspark.sql import SparkSession\n",
        "from pyspark.ml.regression import LinearRegression\n",
        "from pyspark.ml.linalg import Vectors\n",
        "from pyspark.ml.feature import VectorAssembler"
      ],
      "execution_count": 8,
      "outputs": []
    },
    {
      "cell_type": "code",
      "metadata": {
        "id": "ZUCXZct_tQ1b",
        "colab_type": "code",
        "colab": {
          "base_uri": "https://localhost:8080/",
          "height": 72
        },
        "outputId": "a4121324-e2e1-4313-a0fc-caa5cfaf122a"
      },
      "source": [
        "spark = SparkSession.builder.appName('WallmartCustomer').getOrCreate()"
      ],
      "execution_count": 2,
      "outputs": [
        {
          "output_type": "stream",
          "text": [
            "/home/swarathesh60/.local/lib/python2.7/site-packages/pyspark/context.py:220: DeprecationWarning: Support for Python 2 and Python 3 prior to version 3.6 is deprecated as of Spark 3.0. See also the plan for dropping Python 2 support at https://spark.apache.org/news/plan-for-dropping-python-2-support.html.\n",
            "  DeprecationWarning)\n"
          ],
          "name": "stderr"
        }
      ]
    },
    {
      "cell_type": "code",
      "metadata": {
        "id": "ByQ03busteiB",
        "colab_type": "code",
        "colab": {}
      },
      "source": [
        "df = spark.read.csv('Ecommerce_Customers.csv',header=True,inferSchema=True)"
      ],
      "execution_count": 4,
      "outputs": []
    },
    {
      "cell_type": "code",
      "metadata": {
        "id": "1jB_0b-8tzo3",
        "colab_type": "code",
        "colab": {
          "base_uri": "https://localhost:8080/",
          "height": 191
        },
        "outputId": "554f8010-490d-4a70-b8a2-c31d929cc1ac"
      },
      "source": [
        "df.printSchema()"
      ],
      "execution_count": 5,
      "outputs": [
        {
          "output_type": "stream",
          "text": [
            "root\n",
            " |-- Email: string (nullable = true)\n",
            " |-- Address: string (nullable = true)\n",
            " |-- Avatar: string (nullable = true)\n",
            " |-- Avg Session Length: double (nullable = true)\n",
            " |-- Time on App: double (nullable = true)\n",
            " |-- Time on Website: double (nullable = true)\n",
            " |-- Length of Membership: double (nullable = true)\n",
            " |-- Yearly Amount Spent: double (nullable = true)\n",
            "\n"
          ],
          "name": "stdout"
        }
      ]
    },
    {
      "cell_type": "code",
      "metadata": {
        "id": "JEAqoltjt1r0",
        "colab_type": "code",
        "colab": {
          "base_uri": "https://localhost:8080/",
          "height": 156
        },
        "outputId": "2dacdafa-bc11-46e0-b595-2e66cf544f02"
      },
      "source": [
        "df.columns"
      ],
      "execution_count": 9,
      "outputs": [
        {
          "output_type": "execute_result",
          "data": {
            "text/plain": [
              "['Email',\n",
              " 'Address',\n",
              " 'Avatar',\n",
              " 'Avg Session Length',\n",
              " 'Time on App',\n",
              " 'Time on Website',\n",
              " 'Length of Membership',\n",
              " 'Yearly Amount Spent']"
            ]
          },
          "metadata": {
            "tags": []
          },
          "execution_count": 9
        }
      ]
    },
    {
      "cell_type": "code",
      "metadata": {
        "id": "HamQ6G6BuLOb",
        "colab_type": "code",
        "colab": {}
      },
      "source": [
        "vectorAssembler = VectorAssembler(inputCols=['Avg Session Length',\n",
        " 'Time on App',\n",
        " 'Time on Website',\n",
        " 'Length of Membership'],\n",
        "  outputCol='features')"
      ],
      "execution_count": 12,
      "outputs": []
    },
    {
      "cell_type": "code",
      "metadata": {
        "id": "McHfXY7cvl89",
        "colab_type": "code",
        "colab": {}
      },
      "source": [
        "output = vectorAssembler.transform(df)"
      ],
      "execution_count": 13,
      "outputs": []
    },
    {
      "cell_type": "code",
      "metadata": {
        "id": "XgYuyb8Cv3SR",
        "colab_type": "code",
        "colab": {
          "base_uri": "https://localhost:8080/",
          "height": 469
        },
        "outputId": "c780818e-fb74-44f0-bc13-029db1b9eecc"
      },
      "source": [
        "output.select('features').show()"
      ],
      "execution_count": 16,
      "outputs": [
        {
          "output_type": "stream",
          "text": [
            "+--------------------+\n",
            "|            features|\n",
            "+--------------------+\n",
            "|[34.4972677251122...|\n",
            "|[31.9262720263601...|\n",
            "|[33.0009147556426...|\n",
            "|[34.3055566297555...|\n",
            "|[33.3306725236463...|\n",
            "|[33.8710378793419...|\n",
            "|[32.0215955013870...|\n",
            "|[32.7391429383803...|\n",
            "|[33.9877728956856...|\n",
            "|[31.9365486184489...|\n",
            "|[33.9925727749537...|\n",
            "|[33.8793608248049...|\n",
            "|[29.5324289670579...|\n",
            "|[33.1903340437226...|\n",
            "|[32.3879758531538...|\n",
            "|[30.7377203726281...|\n",
            "|[32.1253868972878...|\n",
            "|[32.3388993230671...|\n",
            "|[32.1878120459321...|\n",
            "|[32.6178560628234...|\n",
            "+--------------------+\n",
            "only showing top 20 rows\n",
            "\n"
          ],
          "name": "stdout"
        }
      ]
    },
    {
      "cell_type": "code",
      "metadata": {
        "id": "5DV8-sDVv5Zw",
        "colab_type": "code",
        "colab": {}
      },
      "source": [
        "data = output.select('features','Yearly Amount Spent')"
      ],
      "execution_count": 17,
      "outputs": []
    },
    {
      "cell_type": "code",
      "metadata": {
        "id": "KNoKXyhoxL_k",
        "colab_type": "code",
        "colab": {
          "base_uri": "https://localhost:8080/",
          "height": 469
        },
        "outputId": "98afe7cc-ad65-4226-cea0-f73ba44a072f"
      },
      "source": [
        "data.show()"
      ],
      "execution_count": 18,
      "outputs": [
        {
          "output_type": "stream",
          "text": [
            "+--------------------+-------------------+\n",
            "|            features|Yearly Amount Spent|\n",
            "+--------------------+-------------------+\n",
            "|[34.4972677251122...|  587.9510539684005|\n",
            "|[31.9262720263601...|  392.2049334443264|\n",
            "|[33.0009147556426...| 487.54750486747207|\n",
            "|[34.3055566297555...|  581.8523440352177|\n",
            "|[33.3306725236463...|  599.4060920457634|\n",
            "|[33.8710378793419...|   637.102447915074|\n",
            "|[32.0215955013870...|  521.5721747578274|\n",
            "|[32.7391429383803...|  549.9041461052942|\n",
            "|[33.9877728956856...|  570.2004089636196|\n",
            "|[31.9365486184489...|  427.1993848953282|\n",
            "|[33.9925727749537...|  492.6060127179966|\n",
            "|[33.8793608248049...|  522.3374046069357|\n",
            "|[29.5324289670579...|  408.6403510726275|\n",
            "|[33.1903340437226...|  573.4158673313865|\n",
            "|[32.3879758531538...|  470.4527333009554|\n",
            "|[30.7377203726281...|  461.7807421962299|\n",
            "|[32.1253868972878...| 457.84769594494855|\n",
            "|[32.3388993230671...| 407.70454754954415|\n",
            "|[32.1878120459321...|  452.3156754800354|\n",
            "|[32.6178560628234...|   605.061038804892|\n",
            "+--------------------+-------------------+\n",
            "only showing top 20 rows\n",
            "\n"
          ],
          "name": "stdout"
        }
      ]
    },
    {
      "cell_type": "code",
      "metadata": {
        "id": "UrFeUFC6xNsa",
        "colab_type": "code",
        "colab": {}
      },
      "source": [
        "train, test = data.randomSplit([0.8,0.2])"
      ],
      "execution_count": 19,
      "outputs": []
    },
    {
      "cell_type": "code",
      "metadata": {
        "id": "yu24kCOaxW2b",
        "colab_type": "code",
        "colab": {}
      },
      "source": [
        "model = LinearRegression(labelCol='Yearly Amount Spent')"
      ],
      "execution_count": 48,
      "outputs": []
    },
    {
      "cell_type": "code",
      "metadata": {
        "id": "lkKvQXJ10rfX",
        "colab_type": "code",
        "colab": {}
      },
      "source": [
        "model_lr = model.fit(train)"
      ],
      "execution_count": 49,
      "outputs": []
    },
    {
      "cell_type": "code",
      "metadata": {
        "id": "2h5sSWAtyHR1",
        "colab_type": "code",
        "colab": {}
      },
      "source": [
        "predicitons = model_lr.evaluate(test)"
      ],
      "execution_count": 50,
      "outputs": []
    },
    {
      "cell_type": "code",
      "metadata": {
        "id": "HFcCCHDeyRAx",
        "colab_type": "code",
        "colab": {
          "base_uri": "https://localhost:8080/",
          "height": 469
        },
        "outputId": "bf325fab-ec7c-4467-dee1-97287c320d0e"
      },
      "source": [
        "predicitons.residuals.show()"
      ],
      "execution_count": 51,
      "outputs": [
        {
          "output_type": "stream",
          "text": [
            "+-------------------+\n",
            "|          residuals|\n",
            "+-------------------+\n",
            "|-12.718883108004206|\n",
            "|  5.244778639386141|\n",
            "|-14.157163827210923|\n",
            "|-23.208125811204468|\n",
            "| 0.2131184725390085|\n",
            "| -5.825818464625172|\n",
            "|-3.8200969485631617|\n",
            "|  5.966320706031581|\n",
            "| -1.576327762832193|\n",
            "| -2.020917744043288|\n",
            "|  1.228955328024142|\n",
            "| -5.310806846290063|\n",
            "|-18.865437902006363|\n",
            "| -9.861665535606733|\n",
            "| -6.066180789537555|\n",
            "|-2.3650661790026675|\n",
            "|  7.924868452077476|\n",
            "| 3.7538746266887983|\n",
            "| 0.2750357493980573|\n",
            "|  4.599942546570787|\n",
            "+-------------------+\n",
            "only showing top 20 rows\n",
            "\n"
          ],
          "name": "stdout"
        }
      ]
    },
    {
      "cell_type": "code",
      "metadata": {
        "id": "0NCpdrPAygE-",
        "colab_type": "code",
        "colab": {
          "base_uri": "https://localhost:8080/",
          "height": 34
        },
        "outputId": "117a3377-5b92-4d9f-f156-987518b363fb"
      },
      "source": [
        "predicitons.r2"
      ],
      "execution_count": 52,
      "outputs": [
        {
          "output_type": "execute_result",
          "data": {
            "text/plain": [
              "0.9828822879546597"
            ]
          },
          "metadata": {
            "tags": []
          },
          "execution_count": 52
        }
      ]
    },
    {
      "cell_type": "markdown",
      "metadata": {
        "id": "4O0_4mAT0Exw",
        "colab_type": "text"
      },
      "source": [
        "# what if there are only features"
      ]
    },
    {
      "cell_type": "code",
      "metadata": {
        "id": "7ulYMhtxyqCr",
        "colab_type": "code",
        "colab": {}
      },
      "source": [
        "output_features = test.select('features')"
      ],
      "execution_count": 53,
      "outputs": []
    },
    {
      "cell_type": "code",
      "metadata": {
        "id": "gUayxNB70RkN",
        "colab_type": "code",
        "colab": {
          "base_uri": "https://localhost:8080/",
          "height": 469
        },
        "outputId": "a55e2219-f24a-435b-b2ed-416e168f299e"
      },
      "source": [
        "model_lr.transform(output_features).show()"
      ],
      "execution_count": 56,
      "outputs": [
        {
          "output_type": "stream",
          "text": [
            "+--------------------+------------------+\n",
            "|            features|        prediction|\n",
            "+--------------------+------------------+\n",
            "|[30.3931845423455...| 332.6477529111978|\n",
            "|[30.9716756438877...| 489.3938311175066|\n",
            "|[31.0662181616375...| 463.0904570348853|\n",
            "|[31.1239743499119...|510.15517965097024|\n",
            "|[31.3895854806643...| 409.8564925874439|\n",
            "|[31.5147378578019...| 495.6383064610866|\n",
            "|[31.5171218025062...| 279.7385175989489|\n",
            "|[31.6548096756927...|469.29710302151693|\n",
            "|[31.6610498227460...|417.93468134273303|\n",
            "|[31.7216523605090...|349.79784437591593|\n",
            "|[31.7366356860502...| 495.7044909275078|\n",
            "|[31.7656188210424...| 501.8648884818972|\n",
            "|[31.8164283341993...| 519.9879294056627|\n",
            "|[31.8279790554652...|449.86441308254825|\n",
            "|[31.8745516945853...|398.35142503580505|\n",
            "|[31.9120759292006...| 389.8997824847104|\n",
            "|[31.9549038566348...| 432.0730114878495|\n",
            "|[32.0215955013870...| 517.8183001311386|\n",
            "|[32.0444861274404...| 447.9547934371519|\n",
            "|[32.0478009788678...|508.85062863952567|\n",
            "+--------------------+------------------+\n",
            "only showing top 20 rows\n",
            "\n"
          ],
          "name": "stdout"
        }
      ]
    },
    {
      "cell_type": "code",
      "metadata": {
        "id": "uOF0Gz-P2P3p",
        "colab_type": "code",
        "colab": {}
      },
      "source": [
        ""
      ],
      "execution_count": null,
      "outputs": []
    }
  ]
}
