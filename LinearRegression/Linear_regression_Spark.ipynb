{
  "nbformat": 4,
  "nbformat_minor": 0,
  "metadata": {
    "colab": {
      "name": "Linear_regression_Spark",
      "provenance": [],
      "authorship_tag": "ABX9TyNirzn0TQiULqTvPP9dBweZ",
      "include_colab_link": true
    },
    "kernelspec": {
      "name": "python3",
      "display_name": "Python 3"
    }
  },
  "cells": [
    {
      "cell_type": "markdown",
      "metadata": {
        "id": "view-in-github",
        "colab_type": "text"
      },
      "source": [
        "<a href=\"https://colab.research.google.com/github/swarathesh/Spark_ML/blob/master/Linear_regression_Spark.ipynb\" target=\"_parent\"><img src=\"https://colab.research.google.com/assets/colab-badge.svg\" alt=\"Open In Colab\"/></a>"
      ]
    },
    {
      "cell_type": "markdown",
      "metadata": {
        "id": "fD9CbcN32hyc",
        "colab_type": "text"
      },
      "source": [
        "# Given features estimate the required crew "
      ]
    },
    {
      "cell_type": "code",
      "metadata": {
        "id": "z8rBZujk2zdk",
        "colab_type": "code",
        "colab": {}
      },
      "source": [
        "from pyspark.sql import SparkSession\n",
        "from pyspark.ml.feature import StringIndexer\n",
        "from pyspark.ml.regression import LinearRegression\n",
        "from pyspark.ml.linalg import Vectors\n",
        "from pyspark.ml.feature import VectorAssembler"
      ],
      "execution_count": 25,
      "outputs": []
    },
    {
      "cell_type": "code",
      "metadata": {
        "id": "3H2ArrHF22Ju",
        "colab_type": "code",
        "colab": {}
      },
      "source": [
        "spark = SparkSession.builder.appName('Cruise').getOrCreate()"
      ],
      "execution_count": 5,
      "outputs": []
    },
    {
      "cell_type": "code",
      "metadata": {
        "id": "TVV7l3N628JP",
        "colab_type": "code",
        "colab": {}
      },
      "source": [
        "df = spark.read.csv('cruise_ship_info.csv',header=True,inferSchema=True)"
      ],
      "execution_count": 6,
      "outputs": []
    },
    {
      "cell_type": "code",
      "metadata": {
        "id": "WIKh19JE3QTf",
        "colab_type": "code",
        "colab": {
          "base_uri": "https://localhost:8080/",
          "height": 208
        },
        "outputId": "f567c704-9ea3-4867-b99a-7919e905a543"
      },
      "source": [
        "df.printSchema()"
      ],
      "execution_count": 7,
      "outputs": [
        {
          "output_type": "stream",
          "text": [
            "root\n",
            " |-- Ship_name: string (nullable = true)\n",
            " |-- Cruise_line: string (nullable = true)\n",
            " |-- Age: integer (nullable = true)\n",
            " |-- Tonnage: double (nullable = true)\n",
            " |-- passengers: double (nullable = true)\n",
            " |-- length: double (nullable = true)\n",
            " |-- cabins: double (nullable = true)\n",
            " |-- passenger_density: double (nullable = true)\n",
            " |-- crew: double (nullable = true)\n",
            "\n"
          ],
          "name": "stdout"
        }
      ]
    },
    {
      "cell_type": "code",
      "metadata": {
        "id": "qRa5RS5T3R8C",
        "colab_type": "code",
        "colab": {
          "base_uri": "https://localhost:8080/",
          "height": 173
        },
        "outputId": "49342275-f4d3-4753-9279-a636a9714b70"
      },
      "source": [
        "df.columns"
      ],
      "execution_count": 8,
      "outputs": [
        {
          "output_type": "execute_result",
          "data": {
            "text/plain": [
              "['Ship_name',\n",
              " 'Cruise_line',\n",
              " 'Age',\n",
              " 'Tonnage',\n",
              " 'passengers',\n",
              " 'length',\n",
              " 'cabins',\n",
              " 'passenger_density',\n",
              " 'crew']"
            ]
          },
          "metadata": {
            "tags": []
          },
          "execution_count": 8
        }
      ]
    },
    {
      "cell_type": "code",
      "metadata": {
        "id": "U__Xi0dB3TlT",
        "colab_type": "code",
        "colab": {
          "base_uri": "https://localhost:8080/",
          "height": 451
        },
        "outputId": "e81ddea7-bf2e-455e-d2d9-6100bd0c4bb9"
      },
      "source": [
        "df.groupBy('Cruise_line').count().orderBy('count').show()"
      ],
      "execution_count": 19,
      "outputs": [
        {
          "output_type": "stream",
          "text": [
            "+-----------------+-----+\n",
            "|      Cruise_line|count|\n",
            "+-----------------+-----+\n",
            "|           Orient|    1|\n",
            "|           Disney|    2|\n",
            "|          Azamara|    2|\n",
            "|          Crystal|    2|\n",
            "|         Windstar|    3|\n",
            "|          Oceania|    3|\n",
            "|         Seabourn|    3|\n",
            "|           Cunard|    3|\n",
            "|        Silversea|    4|\n",
            "|Regent_Seven_Seas|    5|\n",
            "|             Star|    6|\n",
            "|              P&O|    6|\n",
            "|              MSC|    8|\n",
            "|        Celebrity|   10|\n",
            "|            Costa|   11|\n",
            "|        Norwegian|   13|\n",
            "| Holland_American|   14|\n",
            "|         Princess|   17|\n",
            "|         Carnival|   22|\n",
            "|  Royal_Caribbean|   23|\n",
            "+-----------------+-----+\n",
            "\n"
          ],
          "name": "stdout"
        }
      ]
    },
    {
      "cell_type": "code",
      "metadata": {
        "id": "OMJ4iBdX3WLp",
        "colab_type": "code",
        "colab": {}
      },
      "source": [
        "indexer  =  StringIndexer(inputCol='Cruise_line',outputCol='Cruise_line_index')"
      ],
      "execution_count": 21,
      "outputs": []
    },
    {
      "cell_type": "code",
      "metadata": {
        "id": "8_eeMPdI4xVL",
        "colab_type": "code",
        "colab": {}
      },
      "source": [
        "indexed = indexer.fit(df).transform(df)"
      ],
      "execution_count": 23,
      "outputs": []
    },
    {
      "cell_type": "code",
      "metadata": {
        "id": "aaIdj3fM43RW",
        "colab_type": "code",
        "colab": {
          "base_uri": "https://localhost:8080/",
          "height": 191
        },
        "outputId": "9d059252-25bf-4263-ae00-847b848c1b34"
      },
      "source": [
        "indexed.columns"
      ],
      "execution_count": 26,
      "outputs": [
        {
          "output_type": "execute_result",
          "data": {
            "text/plain": [
              "['Ship_name',\n",
              " 'Cruise_line',\n",
              " 'Age',\n",
              " 'Tonnage',\n",
              " 'passengers',\n",
              " 'length',\n",
              " 'cabins',\n",
              " 'passenger_density',\n",
              " 'crew',\n",
              " 'Cruise_line_index']"
            ]
          },
          "metadata": {
            "tags": []
          },
          "execution_count": 26
        }
      ]
    },
    {
      "cell_type": "code",
      "metadata": {
        "id": "b8QZiz0548Ct",
        "colab_type": "code",
        "colab": {}
      },
      "source": [
        "vecAssembler = VectorAssembler(inputCols=['Age',\n",
        " 'Tonnage',\n",
        " 'passengers',\n",
        " 'length',\n",
        " 'cabins',\n",
        " 'passenger_density',\n",
        " 'Cruise_line_index'],outputCol='features')"
      ],
      "execution_count": 27,
      "outputs": []
    },
    {
      "cell_type": "code",
      "metadata": {
        "id": "nAOvWjA35ibd",
        "colab_type": "code",
        "colab": {}
      },
      "source": [
        "data = vecAssembler.transform(indexed)"
      ],
      "execution_count": 29,
      "outputs": []
    },
    {
      "cell_type": "code",
      "metadata": {
        "id": "Q3iHZ6QU6Pdr",
        "colab_type": "code",
        "colab": {}
      },
      "source": [
        "data = data.select(['features','crew'])"
      ],
      "execution_count": 34,
      "outputs": []
    },
    {
      "cell_type": "code",
      "metadata": {
        "id": "qqbLkcVg5nuE",
        "colab_type": "code",
        "colab": {}
      },
      "source": [
        "train, test = data.randomSplit([0.8,0.2])"
      ],
      "execution_count": 35,
      "outputs": []
    },
    {
      "cell_type": "code",
      "metadata": {
        "id": "gXRp2RMu535N",
        "colab_type": "code",
        "colab": {}
      },
      "source": [
        "model = LinearRegression(labelCol='crew')"
      ],
      "execution_count": 37,
      "outputs": []
    },
    {
      "cell_type": "code",
      "metadata": {
        "id": "IN4iT2Hy58zQ",
        "colab_type": "code",
        "colab": {}
      },
      "source": [
        "model_lr = model.fit(train)"
      ],
      "execution_count": 40,
      "outputs": []
    },
    {
      "cell_type": "code",
      "metadata": {
        "id": "r3_fxvRD6HCP",
        "colab_type": "code",
        "colab": {}
      },
      "source": [
        "pred = model_lr.evaluate(test)"
      ],
      "execution_count": 41,
      "outputs": []
    },
    {
      "cell_type": "code",
      "metadata": {
        "id": "-x-ps4_M6oJC",
        "colab_type": "code",
        "colab": {
          "base_uri": "https://localhost:8080/",
          "height": 34
        },
        "outputId": "425428a5-70eb-447f-9721-8caa231d115e"
      },
      "source": [
        "pred.rootMeanSquaredError"
      ],
      "execution_count": 43,
      "outputs": [
        {
          "output_type": "execute_result",
          "data": {
            "text/plain": [
              "0.633841541151926"
            ]
          },
          "metadata": {
            "tags": []
          },
          "execution_count": 43
        }
      ]
    },
    {
      "cell_type": "code",
      "metadata": {
        "id": "ppqsV5Pk6qB_",
        "colab_type": "code",
        "colab": {
          "base_uri": "https://localhost:8080/",
          "height": 34
        },
        "outputId": "c4eb2ef9-c8f3-49e4-9d7f-c55a505aeda5"
      },
      "source": [
        "pred.r2"
      ],
      "execution_count": 44,
      "outputs": [
        {
          "output_type": "execute_result",
          "data": {
            "text/plain": [
              "0.970337379470097"
            ]
          },
          "metadata": {
            "tags": []
          },
          "execution_count": 44
        }
      ]
    }
  ]
}
