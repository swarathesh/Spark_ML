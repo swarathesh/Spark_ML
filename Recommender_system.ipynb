{
  "nbformat": 4,
  "nbformat_minor": 0,
  "metadata": {
    "colab": {
      "name": "Recommender_system",
      "provenance": [],
      "authorship_tag": "ABX9TyNmweEES34TvgkGMC68L92U",
      "include_colab_link": true
    },
    "kernelspec": {
      "name": "python3",
      "display_name": "Python 3"
    }
  },
  "cells": [
    {
      "cell_type": "markdown",
      "metadata": {
        "id": "view-in-github",
        "colab_type": "text"
      },
      "source": [
        "<a href=\"https://colab.research.google.com/github/swarathesh/Spark_ML/blob/master/Recommender_system.ipynb\" target=\"_parent\"><img src=\"https://colab.research.google.com/assets/colab-badge.svg\" alt=\"Open In Colab\"/></a>"
      ]
    },
    {
      "cell_type": "code",
      "metadata": {
        "id": "eYKynShi-udB",
        "colab_type": "code",
        "colab": {}
      },
      "source": [
        "from pyspark.sql import SparkSession \n",
        "from pyspark.ml.recommendation import ALS\n",
        "from pyspark.ml.evaluation import RegressionEvaluator"
      ],
      "execution_count": 5,
      "outputs": []
    },
    {
      "cell_type": "code",
      "metadata": {
        "id": "bhQ5VkeM-72z",
        "colab_type": "code",
        "colab": {
          "base_uri": "https://localhost:8080/",
          "height": 72
        },
        "outputId": "753dbbbf-d9ec-49e9-bd8a-ab0613ddb750"
      },
      "source": [
        "spark = SparkSession.builder.appName('recommender_system').getOrCreate()"
      ],
      "execution_count": 4,
      "outputs": [
        {
          "output_type": "stream",
          "text": [
            "/home/swarathesh60/.local/lib/python2.7/site-packages/pyspark/context.py:220: DeprecationWarning: Support for Python 2 and Python 3 prior to version 3.6 is deprecated as of Spark 3.0. See also the plan for dropping Python 2 support at https://spark.apache.org/news/plan-for-dropping-python-2-support.html.\n",
            "  DeprecationWarning)\n"
          ],
          "name": "stderr"
        }
      ]
    },
    {
      "cell_type": "code",
      "metadata": {
        "id": "cS5TEQht_GUs",
        "colab_type": "code",
        "colab": {}
      },
      "source": [
        "data = spark.read.csv('movielens_ratings.csv',header=True,inferSchema=True)"
      ],
      "execution_count": 6,
      "outputs": []
    },
    {
      "cell_type": "code",
      "metadata": {
        "id": "9XozHNLJ_hY8",
        "colab_type": "code",
        "colab": {
          "base_uri": "https://localhost:8080/",
          "height": 469
        },
        "outputId": "de8aa156-7096-4d58-a5ab-10c1edcad716"
      },
      "source": [
        "data.show()"
      ],
      "execution_count": 7,
      "outputs": [
        {
          "output_type": "stream",
          "text": [
            "+-------+------+------+\n",
            "|movieId|rating|userId|\n",
            "+-------+------+------+\n",
            "|      2|   3.0|     0|\n",
            "|      3|   1.0|     0|\n",
            "|      5|   2.0|     0|\n",
            "|      9|   4.0|     0|\n",
            "|     11|   1.0|     0|\n",
            "|     12|   2.0|     0|\n",
            "|     15|   1.0|     0|\n",
            "|     17|   1.0|     0|\n",
            "|     19|   1.0|     0|\n",
            "|     21|   1.0|     0|\n",
            "|     23|   1.0|     0|\n",
            "|     26|   3.0|     0|\n",
            "|     27|   1.0|     0|\n",
            "|     28|   1.0|     0|\n",
            "|     29|   1.0|     0|\n",
            "|     30|   1.0|     0|\n",
            "|     31|   1.0|     0|\n",
            "|     34|   1.0|     0|\n",
            "|     37|   1.0|     0|\n",
            "|     41|   2.0|     0|\n",
            "+-------+------+------+\n",
            "only showing top 20 rows\n",
            "\n"
          ],
          "name": "stdout"
        }
      ]
    },
    {
      "cell_type": "code",
      "metadata": {
        "id": "F6wQnOms_jAg",
        "colab_type": "code",
        "colab": {
          "base_uri": "https://localhost:8080/",
          "height": 191
        },
        "outputId": "3dbb655e-14d1-414d-f722-b5fe1f96e00e"
      },
      "source": [
        "data.describe().show()"
      ],
      "execution_count": 8,
      "outputs": [
        {
          "output_type": "stream",
          "text": [
            "+-------+------------------+------------------+------------------+\n",
            "|summary|           movieId|            rating|            userId|\n",
            "+-------+------------------+------------------+------------------+\n",
            "|  count|              1501|              1501|              1501|\n",
            "|   mean| 49.40572951365756|1.7741505662891406|14.383744170552964|\n",
            "| stddev|28.937034065088994| 1.187276166124803| 8.591040424293272|\n",
            "|    min|                 0|               1.0|                 0|\n",
            "|    max|                99|               5.0|                29|\n",
            "+-------+------------------+------------------+------------------+\n",
            "\n"
          ],
          "name": "stdout"
        }
      ]
    },
    {
      "cell_type": "code",
      "metadata": {
        "id": "IL6NJ19d_zMe",
        "colab_type": "code",
        "colab": {}
      },
      "source": [
        "train, test = data.randomSplit([0.9,0.1])"
      ],
      "execution_count": 9,
      "outputs": []
    },
    {
      "cell_type": "code",
      "metadata": {
        "id": "gB5QLgR9_9Y8",
        "colab_type": "code",
        "colab": {}
      },
      "source": [
        "als = ALS(maxIter=5,regParam=0.01,userCol='userId',itemCol='movieId',ratingCol='rating')"
      ],
      "execution_count": 10,
      "outputs": []
    },
    {
      "cell_type": "code",
      "metadata": {
        "id": "Q4KYfYtvAWZA",
        "colab_type": "code",
        "colab": {}
      },
      "source": [
        "model = als.fit(train)"
      ],
      "execution_count": 11,
      "outputs": []
    },
    {
      "cell_type": "code",
      "metadata": {
        "id": "uJ2uvgKxAb3h",
        "colab_type": "code",
        "colab": {}
      },
      "source": [
        "pred = model.transform(test)"
      ],
      "execution_count": 12,
      "outputs": []
    },
    {
      "cell_type": "code",
      "metadata": {
        "id": "PW1OM05_Afkw",
        "colab_type": "code",
        "colab": {
          "base_uri": "https://localhost:8080/",
          "height": 469
        },
        "outputId": "7e1f144e-de7d-4ac1-d911-c3c38ba6053c"
      },
      "source": [
        "pred.show()"
      ],
      "execution_count": 13,
      "outputs": [
        {
          "output_type": "stream",
          "text": [
            "+-------+------+------+-----------+\n",
            "|movieId|rating|userId| prediction|\n",
            "+-------+------+------+-----------+\n",
            "|     31|   3.0|    14|  2.2697055|\n",
            "|     85|   1.0|    12|  1.0494381|\n",
            "|     65|   1.0|    22| 0.79606366|\n",
            "|     65|   1.0|    16|   2.600819|\n",
            "|     65|   5.0|    23|  1.3584112|\n",
            "|     78|   1.0|     1|  0.9427622|\n",
            "|     34|   1.0|     4|  2.1698303|\n",
            "|     81|   5.0|    28|  3.3998742|\n",
            "|     81|   3.0|    18|-0.35806572|\n",
            "|     12|   1.0|    13|  1.5871494|\n",
            "|     12|   1.0|     4|-0.47820807|\n",
            "|     91|   1.0|    16|  1.3304385|\n",
            "|     91|   2.0|     5|    1.70176|\n",
            "|     22|   5.0|    20| 0.63853395|\n",
            "|     22|   4.0|    17|  3.4802032|\n",
            "|     22|   1.0|    10|  1.1316644|\n",
            "|     93|   1.0|    29|  2.1166332|\n",
            "|     47|   1.0|    26|-0.85830534|\n",
            "|     47|   1.0|    24| -3.3724709|\n",
            "|      1|   3.0|    25|  0.9748593|\n",
            "+-------+------+------+-----------+\n",
            "only showing top 20 rows\n",
            "\n"
          ],
          "name": "stdout"
        }
      ]
    },
    {
      "cell_type": "code",
      "metadata": {
        "id": "rs8ViznHAhFL",
        "colab_type": "code",
        "colab": {
          "base_uri": "https://localhost:8080/",
          "height": 34
        },
        "outputId": "fb25ba93-efaf-49d4-dc7e-5754fbda6f23"
      },
      "source": [
        "RegressionEvaluator(metricName='rmse',labelCol='rating',predictionCol='prediction').evaluate(pred)"
      ],
      "execution_count": 14,
      "outputs": [
        {
          "output_type": "execute_result",
          "data": {
            "text/plain": [
              "1.5863217334635191"
            ]
          },
          "metadata": {
            "tags": []
          },
          "execution_count": 14
        }
      ]
    },
    {
      "cell_type": "markdown",
      "metadata": {
        "id": "_GkE4wnlB2G7",
        "colab_type": "text"
      },
      "source": [
        "# test it on single user"
      ]
    },
    {
      "cell_type": "code",
      "metadata": {
        "id": "ZLgPhOejBI6e",
        "colab_type": "code",
        "colab": {}
      },
      "source": [
        "user = test.filter(test['userId']==9).select(['movieId','userId'])"
      ],
      "execution_count": 25,
      "outputs": []
    },
    {
      "cell_type": "code",
      "metadata": {
        "id": "vaq_GXnqCtWc",
        "colab_type": "code",
        "colab": {
          "base_uri": "https://localhost:8080/",
          "height": 156
        },
        "outputId": "f37a0390-9bd3-4337-ee50-7acb657df4bc"
      },
      "source": [
        "user.show()"
      ],
      "execution_count": 26,
      "outputs": [
        {
          "output_type": "stream",
          "text": [
            "+-------+------+------+\n",
            "|movieId|userId|rating|\n",
            "+-------+------+------+\n",
            "|      4|     9|   1.0|\n",
            "|     70|     9|   3.0|\n",
            "|     83|     9|   1.0|\n",
            "+-------+------+------+\n",
            "\n"
          ],
          "name": "stdout"
        }
      ]
    },
    {
      "cell_type": "code",
      "metadata": {
        "id": "M9W5iNxtCFcV",
        "colab_type": "code",
        "colab": {
          "base_uri": "https://localhost:8080/",
          "height": 156
        },
        "outputId": "e49b2ba2-4c3b-49d1-8c74-e0f47ebde7de"
      },
      "source": [
        "model.transform(user).orderBy('prediction',ascending=False).show()"
      ],
      "execution_count": 23,
      "outputs": [
        {
          "output_type": "stream",
          "text": [
            "+-------+------+----------+\n",
            "|movieId|userId|prediction|\n",
            "+-------+------+----------+\n",
            "|     70|     9| 2.6081328|\n",
            "|      4|     9| 1.6831845|\n",
            "|     83|     9| 1.5570519|\n",
            "+-------+------+----------+\n",
            "\n"
          ],
          "name": "stdout"
        }
      ]
    },
    {
      "cell_type": "code",
      "metadata": {
        "id": "J8O982MOCkTf",
        "colab_type": "code",
        "colab": {}
      },
      "source": [
        ""
      ],
      "execution_count": null,
      "outputs": []
    }
  ]
}